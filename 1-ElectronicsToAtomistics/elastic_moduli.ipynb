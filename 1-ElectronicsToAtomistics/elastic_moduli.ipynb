{
 "cells": [
  {
   "cell_type": "code",
   "execution_count": 1,
   "metadata": {},
   "outputs": [
    {
     "name": "stdout",
     "output_type": "stream",
     "text": [
      "{c11: 368.789016700000, c12: 273.789016700000}\n"
     ]
    }
   ],
   "source": [
    "import sympy as sp\n",
    "B = 214.192677800\n",
    "C44 = 117\n",
    "Cp = 47.5\n",
    "b = lambda c11, c12: (c11+c12)/3\n",
    "cp = lambda c11, c12: (c11-c12)/2\n",
    "c11_sym, c12_sym = sp.Symbol(\"c11\"), sp.Symbol(\"c12\")\n",
    "print(sp.solve([b(c11_sym, c12_sym)-B, cp(c11_sym, c12_sym)-Cp]))"
   ]
  }
 ],
 "metadata": {
  "interpreter": {
   "hash": "e35c6cb24f13def6cd8a8f830272c4839c95e3797c27f0769b199fcb0839a472"
  },
  "kernelspec": {
   "display_name": "Python 3.7.9 64-bit",
   "language": "python",
   "name": "python3"
  },
  "language_info": {
   "codemirror_mode": {
    "name": "ipython",
    "version": 3
   },
   "file_extension": ".py",
   "mimetype": "text/x-python",
   "name": "python",
   "nbconvert_exporter": "python",
   "pygments_lexer": "ipython3",
   "version": "3.7.9"
  },
  "orig_nbformat": 4
 },
 "nbformat": 4,
 "nbformat_minor": 2
}
